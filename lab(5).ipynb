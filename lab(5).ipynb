{
 "cells": [
  {
   "cell_type": "code",
   "execution_count": 1,
   "metadata": {},
   "outputs": [
    {
     "name": "stdout",
     "output_type": "stream",
     "text": [
      "Error: Division by zero is not allowed.\n",
      "Program execution completed.\n"
     ]
    }
   ],
   "source": [
    "#ZeroDivision Error\n",
    "\n",
    "try:\n",
    "    dividend = int(input(\"Enter the dividend (the number to be divided) : \"))\n",
    "    divisor = int(input(\"Enter the divisor (the number you'd like to divide with) : \"))\n",
    "    result = dividend / divisor\n",
    "    print(\"Result = \", result)\n",
    "    \n",
    "except ZeroDivisionError:\n",
    "    print(\"Error: Division by zero is not allowed.\")\n",
    "    \n",
    "finally:\n",
    "    print(\"Program execution completed.\")"
   ]
  },
  {
   "cell_type": "code",
   "execution_count": 1,
   "metadata": {},
   "outputs": [
    {
     "name": "stdout",
     "output_type": "stream",
     "text": [
      "Error: Index out of range.\n",
      "Program execution completed.\n"
     ]
    }
   ],
   "source": [
    "# Index Error\n",
    "\n",
    "try:\n",
    "    my_list = [1, 2, 3, 4, 5, 6, 7, 8, 9, 10]\n",
    "    index = int(input(\"Enter the index: \"))\n",
    "    value = my_list[index]\n",
    "    print(\"Value at index\", index, \":\", value)\n",
    "    \n",
    "except IndexError:\n",
    "    print(\"Error: Index out of range.\")\n",
    "    \n",
    "finally:\n",
    "    print(\"Program execution completed.\")"
   ]
  }
 ],
 "metadata": {
  "kernelspec": {
   "display_name": "Python 3",
   "language": "python",
   "name": "python3"
  },
  "language_info": {
   "codemirror_mode": {
    "name": "ipython",
    "version": 3
   },
   "file_extension": ".py",
   "mimetype": "text/x-python",
   "name": "python",
   "nbconvert_exporter": "python",
   "pygments_lexer": "ipython3",
   "version": "3.11.4"
  },
  "orig_nbformat": 4
 },
 "nbformat": 4,
 "nbformat_minor": 2
}
